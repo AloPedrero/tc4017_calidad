{
 "cells": [
  {
   "cell_type": "code",
   "execution_count": 1,
   "metadata": {},
   "outputs": [],
   "source": [
    "\"\"\"\n",
    "This is the activity 6.2 of unit testing\n",
    "Alonso Pedrero Martinez\n",
    "A01769076\n",
    "\"\"\"\n",
    "\n",
    "import pandas as pd\n",
    "import pathlib\n",
    "import json\n",
    "import os\n",
    "import sys\n",
    "\n",
    "def file_management_existence(file_catalog_input):\n",
    "    \"\"\"\n",
    "    This function checks if the file exists.\n",
    "    \"\"\"\n",
    "    if not pathlib.Path(file_catalog_input).is_file():\n",
    "        raise FileNotFoundError(\"File not found: \", file_catalog_input)\n",
    "\n",
    "    print(\"Found file:\", file_catalog_input)\n",
    "\n",
    "def open_file(file_name_input : str, resource : str):\n",
    "    \"\"\"\n",
    "    Opens a file as pd dataframe\n",
    "    \"\"\"\n",
    "    PATH = \"../resources/\"\n",
    "    FULL_PATH = PATH + file_name_input\n",
    "    file_management_existence(FULL_PATH)\n",
    "\n",
    "    if resource == \"hotel\":\n",
    "\n",
    "        df_columns = [\"hotel_id\", \"name\", \"location\", \"rooms_total\",\n",
    "                        \"rooms_available\", \"price_per_night\", \"rating\"]\n",
    "    \n",
    "    elif resource == \"customer\":\n",
    "\n",
    "        df_columns = [\"customer_id\", \"name\", \"email\", \"phone\"]\n",
    "\n",
    "\n",
    "    try:\n",
    "        df = pd.read_json(FULL_PATH)\n",
    "\n",
    "        if df.empty == True:\n",
    "            raise ValueError()\n",
    "\n",
    "        return df\n",
    "    \n",
    "    except (ValueError, json.JSONDecodeError):\n",
    "        print(\"Error: JSON file is corrupted. Using an empty DataFrame.\")\n",
    "        return pd.DataFrame(columns = df_columns)\n",
    "\n",
    "\n",
    "def save_file(df_input : pd.DataFrame, file_name_input : str):\n",
    "    PATH = \"../resources/\"\n",
    "    FULL_PATH = PATH + file_name_input\n",
    "    file_management_existence(FULL_PATH)\n",
    "    df_input.to_json(FULL_PATH, orient=\"records\", indent=4)\n",
    "\n",
    "\n",
    "def parse_to(df_input : pd.DataFrame, column_name : str, data_type):\n",
    "    \"\"\"\n",
    "    \"\"\"\n",
    "    df_input[column_name] = df_input[column_name].astype(data_type)\n",
    "\n",
    "\n",
    "def empty_check(df_input : pd.DataFrame):\n",
    "    if df_input.empty:\n",
    "        print(\"Error: No hotels found in the database.\")\n",
    "        return False\n",
    "    "
   ]
  },
  {
   "cell_type": "code",
   "execution_count": 2,
   "metadata": {},
   "outputs": [],
   "source": [
    "class Hotel():\n",
    "    \"\"\"\n",
    "    Basic attributes that represent the hotel\n",
    "    \"\"\"\n",
    "    def __init__(self, hotel_id: str, name: str, location: str, rooms_total: int, price_per_night: float, rating: float):\n",
    "        self.hotel_id = hotel_id\n",
    "        self.name = name\n",
    "        self.location = location\n",
    "        self.rooms_total = rooms_total\n",
    "        self.rooms_available = rooms_total\n",
    "        self.price_per_night = price_per_night\n",
    "        self.rating = rating\n",
    "\n",
    "    def to_dict(self):\n",
    "        \"\"\"\n",
    "        Convierte el hotel a un diccionario para guardarlo en JSON.\n",
    "        \"\"\"\n",
    "        return {\n",
    "            \"hotel_id\": self.hotel_id,\n",
    "            \"name\": self.name,\n",
    "            \"location\": self.location,\n",
    "            \"rooms_total\": self.rooms_total,\n",
    "            \"rooms_available\": self.rooms_available,\n",
    "            \"price_per_night\": self.price_per_night,\n",
    "            \"rating\": self.rating\n",
    "        }\n"
   ]
  },
  {
   "cell_type": "code",
   "execution_count": 12,
   "metadata": {},
   "outputs": [],
   "source": [
    "class HotelFactory():\n",
    "    \"\"\"\n",
    "    \n",
    "    \"\"\"\n",
    "    @staticmethod\n",
    "    def create_hotel(hotel_id: str,\n",
    "                     name: str,\n",
    "                     location: str,\n",
    "                     rooms_total: int,\n",
    "                     price_per_night: float,\n",
    "                     rating: float):\n",
    "        \"\"\"\n",
    "        This method opens the hotel files and adds the \n",
    "        \"\"\"\n",
    "        df = open_file(\"hotels.json\", \"hotel\")\n",
    "        display(df)\n",
    "\n",
    "        if hotel_id in df[\"hotel_id\"].astype(str).values:\n",
    "            print(f\"Error: A hotel with ID {hotel_id} already exists.\")\n",
    "            return None\n",
    "\n",
    "        hotel = Hotel(hotel_id, name, location, rooms_total, price_per_night, rating)\n",
    "\n",
    "        df = pd.concat([df, pd.DataFrame([hotel.to_dict()])], ignore_index=True)\n",
    "\n",
    "        save_file(df, \"hotels.json\")\n",
    "\n",
    "        print(f\"Hotel {name} created successfully!\")\n",
    "        \n",
    "        return hotel\n",
    "    \n",
    "    @staticmethod\n",
    "    def delete_hotel(hotel_id: str,\n",
    "                     name: str,\n",
    "                     location: str,\n",
    "                     rooms_total: int,\n",
    "                     price_per_night: float,\n",
    "                     rating: float):\n",
    "        \"\"\"\n",
    "        \n",
    "        \"\"\"\n",
    "        df = open_file(\"hotels.json\", \"hotel\")\n",
    "\n",
    "        empty_check(df)\n",
    "        \n",
    "        parse_to(df, \"hotel_id\", str)\n",
    "        parse_to(df, \"name\", str)\n",
    "        parse_to(df, \"location\", str)\n",
    "        parse_to(df, \"rooms_total\", int)\n",
    "        parse_to(df, \"price_per_night\", float)\n",
    "        parse_to(df, \"rating\", float)\n",
    "\n",
    "        mask = (\n",
    "            (df[\"hotel_id\"] == hotel_id) &\n",
    "            (df[\"name\"] == name) &\n",
    "            (df[\"location\"] == location) &\n",
    "            (df[\"rooms_total\"] == rooms_total) &\n",
    "            (df[\"price_per_night\"] == price_per_night) &\n",
    "            (df[\"rating\"] == rating)\n",
    "        )\n",
    "\n",
    "        if df.loc[mask].empty:\n",
    "            print(f\"Error: No hotel found with the given attributes.\")\n",
    "            return False\n",
    "    \n",
    "        df = df.loc[~mask]\n",
    "\n",
    "        save_file(df, \"hotels.json\")\n",
    "        print(f\"Hotel '{name}' deleted successfully.\")\n",
    "        \n",
    "        return True\n",
    "\n",
    "\n",
    "    @staticmethod\n",
    "    def display_hotel_info(hotel_id : str,\n",
    "                           name : str):\n",
    "        \"\"\"\n",
    "        \n",
    "        \"\"\"\n",
    "        df = open_file(\"hotels.json\", \"hotel\")\n",
    "        empty_check(df)\n",
    "\n",
    "        parse_to(df, \"hotel_id\", str)\n",
    "        parse_to(df, \"name\", str)\n",
    "\n",
    "        df_filtered = df.loc[(df[\"hotel_id\"] == hotel_id) & (df[\"name\"] == name)]\n",
    "        \n",
    "        display(df_filtered)\n",
    "\n",
    "    @staticmethod\n",
    "    def modify_hotel_info(hotel_id: str, **kwargs):\n",
    "        \"\"\"\n",
    "        \n",
    "        \"\"\"\n",
    "        df = open_file(\"hotels.json\", \"hotel\")\n",
    "        empty_check(df)\n",
    "\n",
    "        parse_to(df, \"hotel_id\", str)\n",
    "\n",
    "        if hotel_id not in df[\"hotel_id\"].values:\n",
    "            print(f\"Error: No hotel found with ID '{hotel_id}'.\")\n",
    "            return False\n",
    "\n",
    "        valid_columns = [\"name\", \"location\", \"rooms_total\", \"price_per_night\", \"rating\"]\n",
    "\n",
    "        for key, value in kwargs.items():\n",
    "            if key in valid_columns:\n",
    "                df.loc[df[\"hotel_id\"] == hotel_id, key] = value\n",
    "            else:\n",
    "                print(f\"Warning: '{key}' is not a valid attribute.\")\n",
    "\n",
    "        save_file(df, \"hotels.json\")\n",
    "        print(f\"Hotel '{hotel_id}' updated successfully.\")\n",
    "        \n",
    "        return True\n"
   ]
  },
  {
   "cell_type": "code",
   "execution_count": 4,
   "metadata": {},
   "outputs": [],
   "source": [
    "class Customer():\n",
    "    \"\"\"\n",
    "    Basic attributes that represent the hotel\n",
    "    \"\"\"\n",
    "    def __init__(self, customer_id: str, name: str, email: str, phone: int):\n",
    "        self.customer_id = customer_id\n",
    "        self.name = name\n",
    "        self.email = email\n",
    "        self.phone = phone\n",
    "\n",
    "    def to_dict(self):\n",
    "        \"\"\"\n",
    "        Convierte el hotel a un diccionario para guardarlo en JSON.\n",
    "        \"\"\"\n",
    "        return {\n",
    "            \"customer_id\": self.customer_id,\n",
    "            \"name\": self.name,\n",
    "            \"email\": self.email,\n",
    "            \"phone\": self.phone,\n",
    "        }"
   ]
  },
  {
   "cell_type": "code",
   "execution_count": 25,
   "metadata": {},
   "outputs": [],
   "source": [
    "class CustomerFactory():\n",
    "    \"\"\"\n",
    "    \n",
    "    \"\"\"\n",
    "    @staticmethod\n",
    "    def create_customer(customer_id: str,\n",
    "                        name: str,\n",
    "                        email: str,\n",
    "                        phone: int):\n",
    "        \"\"\"\n",
    "        This method opens the hotel files and adds the \n",
    "        \"\"\"\n",
    "        df = open_file(\"customers.json\", \"customer\")\n",
    "        \n",
    "        if customer_id in df[\"customer_id\"].astype(str).values:\n",
    "            print(f\"Error: A client with ID {customer_id} already exists.\")\n",
    "            return None\n",
    "\n",
    "        client = Customer(customer_id, name, email, phone)\n",
    "\n",
    "\n",
    "        df = pd.concat([df, pd.DataFrame([client.to_dict()])], ignore_index=True)\n",
    "        \n",
    "\n",
    "        save_file(df, \"customers.json\")\n",
    "\n",
    "        print(f\"Client {name} created successfully!\")\n",
    "        \n",
    "        return client\n",
    "    \n",
    "    @staticmethod\n",
    "    def delete_customer(customer_id: str,\n",
    "                        name: str,\n",
    "                        email: str,\n",
    "                        phone: int):\n",
    "        \"\"\"\n",
    "        \n",
    "        \"\"\"\n",
    "        df = open_file(\"customers.json\", \"customer\")\n",
    "\n",
    "        empty_check(df)\n",
    "        \n",
    "        parse_to(df, \"customer_id\", str)\n",
    "        parse_to(df, \"name\", str)\n",
    "        parse_to(df, \"email\", str)\n",
    "        parse_to(df, \"phone\", int)\n",
    "\n",
    "        mask = (\n",
    "            (df[\"customer_id\"] == customer_id) &\n",
    "            (df[\"name\"] == name) &\n",
    "            (df[\"email\"] == email) &\n",
    "            (df[\"phone\"] == phone)\n",
    "        )\n",
    "\n",
    "        if df.loc[mask].empty:\n",
    "            print(f\"Error: No hotel found with the given attributes.\")\n",
    "            return False\n",
    "    \n",
    "        df = df.loc[~mask]\n",
    "\n",
    "        save_file(df, \"customers.json\")\n",
    "        print(f\"customer '{name}' deleted successfully.\")\n",
    "        \n",
    "        return True\n",
    "\n",
    "\n",
    "    @staticmethod\n",
    "    def display_customer_info(customer_id : str,\n",
    "                           name : str):\n",
    "        \"\"\"\n",
    "        \n",
    "        \"\"\"\n",
    "        df = open_file(\"customers.json\", \"customer\")\n",
    "        empty_check(df)\n",
    "\n",
    "        parse_to(df, \"customer_id\", str)\n",
    "        parse_to(df, \"name\", str)\n",
    "\n",
    "        df_filtered = df.loc[(df[\"customer_id\"] == customer_id) & (df[\"name\"] == name)]\n",
    "        \n",
    "        display(df_filtered)\n",
    "\n",
    "    @staticmethod\n",
    "    def modify_customer_info(customer_id: str, **kwargs):\n",
    "        \"\"\"\n",
    "        \n",
    "        \"\"\"\n",
    "        df = open_file(\"customers.json\", \"customer\")\n",
    "        empty_check(df)\n",
    "\n",
    "        parse_to(df, \"customer_id\", str)\n",
    "\n",
    "        if customer_id not in df[\"customer_id\"].values:\n",
    "            print(f\"Error: No customer found with ID '{customer_id}'.\")\n",
    "            return False\n",
    "\n",
    "        valid_columns = [\"name\", \"email\", \"phone\"]\n",
    "\n",
    "        for key, value in kwargs.items():\n",
    "            if key in valid_columns:\n",
    "                df.loc[df[\"customer_id\"] == customer_id, key] = value\n",
    "            else:\n",
    "                print(f\"Warning: '{key}' is not a valid attribute.\")\n",
    "\n",
    "        save_file(df, \"customers.json\")\n",
    "        print(f\"Customer '{customer_id}' updated successfully.\")\n",
    "        \n",
    "        return True\n"
   ]
  },
  {
   "cell_type": "code",
   "execution_count": 6,
   "metadata": {},
   "outputs": [
    {
     "name": "stdout",
     "output_type": "stream",
     "text": [
      "Found file: ../resources/hotels.json\n",
      "Error: JSON file is corrupted. Using an empty DataFrame.\n"
     ]
    },
    {
     "data": {
      "text/html": [
       "<div>\n",
       "<style scoped>\n",
       "    .dataframe tbody tr th:only-of-type {\n",
       "        vertical-align: middle;\n",
       "    }\n",
       "\n",
       "    .dataframe tbody tr th {\n",
       "        vertical-align: top;\n",
       "    }\n",
       "\n",
       "    .dataframe thead th {\n",
       "        text-align: right;\n",
       "    }\n",
       "</style>\n",
       "<table border=\"1\" class=\"dataframe\">\n",
       "  <thead>\n",
       "    <tr style=\"text-align: right;\">\n",
       "      <th></th>\n",
       "      <th>hotel_id</th>\n",
       "      <th>name</th>\n",
       "      <th>location</th>\n",
       "      <th>rooms_total</th>\n",
       "      <th>rooms_available</th>\n",
       "      <th>price_per_night</th>\n",
       "      <th>rating</th>\n",
       "    </tr>\n",
       "  </thead>\n",
       "  <tbody>\n",
       "  </tbody>\n",
       "</table>\n",
       "</div>"
      ],
      "text/plain": [
       "Empty DataFrame\n",
       "Columns: [hotel_id, name, location, rooms_total, rooms_available, price_per_night, rating]\n",
       "Index: []"
      ]
     },
     "metadata": {},
     "output_type": "display_data"
    },
    {
     "name": "stdout",
     "output_type": "stream",
     "text": [
      "Found file: ../resources/hotels.json\n",
      "Hotel Holiday Inn created successfully!\n"
     ]
    },
    {
     "name": "stderr",
     "output_type": "stream",
     "text": [
      "/var/folders/xj/856h4cfd3k52z_02341c_sxc0000gn/T/ipykernel_14694/694850704.py:24: FutureWarning: The behavior of DataFrame concatenation with empty or all-NA entries is deprecated. In a future version, this will no longer exclude empty or all-NA columns when determining the result dtypes. To retain the old behavior, exclude the relevant entries before the concat operation.\n",
      "  df = pd.concat([df, pd.DataFrame([hotel.to_dict()])], ignore_index=True)\n"
     ]
    },
    {
     "data": {
      "text/plain": [
       "<__main__.Hotel at 0x1295a2120>"
      ]
     },
     "execution_count": 6,
     "metadata": {},
     "output_type": "execute_result"
    }
   ],
   "source": [
    "HotelFactory.create_hotel(\"1\", \"Holiday Inn\", \"MX\", 30, 305.0, 5.0)"
   ]
  },
  {
   "cell_type": "code",
   "execution_count": 7,
   "metadata": {},
   "outputs": [
    {
     "name": "stdout",
     "output_type": "stream",
     "text": [
      "Found file: ../resources/hotels.json\n"
     ]
    },
    {
     "data": {
      "text/html": [
       "<div>\n",
       "<style scoped>\n",
       "    .dataframe tbody tr th:only-of-type {\n",
       "        vertical-align: middle;\n",
       "    }\n",
       "\n",
       "    .dataframe tbody tr th {\n",
       "        vertical-align: top;\n",
       "    }\n",
       "\n",
       "    .dataframe thead th {\n",
       "        text-align: right;\n",
       "    }\n",
       "</style>\n",
       "<table border=\"1\" class=\"dataframe\">\n",
       "  <thead>\n",
       "    <tr style=\"text-align: right;\">\n",
       "      <th></th>\n",
       "      <th>hotel_id</th>\n",
       "      <th>name</th>\n",
       "      <th>location</th>\n",
       "      <th>rooms_total</th>\n",
       "      <th>rooms_available</th>\n",
       "      <th>price_per_night</th>\n",
       "      <th>rating</th>\n",
       "    </tr>\n",
       "  </thead>\n",
       "  <tbody>\n",
       "    <tr>\n",
       "      <th>0</th>\n",
       "      <td>1</td>\n",
       "      <td>Holiday Inn</td>\n",
       "      <td>MX</td>\n",
       "      <td>30</td>\n",
       "      <td>30</td>\n",
       "      <td>305</td>\n",
       "      <td>5</td>\n",
       "    </tr>\n",
       "  </tbody>\n",
       "</table>\n",
       "</div>"
      ],
      "text/plain": [
       "  hotel_id         name location  rooms_total  rooms_available  \\\n",
       "0        1  Holiday Inn       MX           30               30   \n",
       "\n",
       "   price_per_night  rating  \n",
       "0              305       5  "
      ]
     },
     "metadata": {},
     "output_type": "display_data"
    }
   ],
   "source": [
    "HotelFactory.display_hotel_info(\"1\", \"Holiday Inn\")"
   ]
  },
  {
   "cell_type": "code",
   "execution_count": 8,
   "metadata": {},
   "outputs": [
    {
     "name": "stdout",
     "output_type": "stream",
     "text": [
      "Found file: ../resources/hotels.json\n",
      "Found file: ../resources/hotels.json\n",
      "Hotel 'Holiday Inn' deleted successfully.\n"
     ]
    },
    {
     "data": {
      "text/plain": [
       "True"
      ]
     },
     "execution_count": 8,
     "metadata": {},
     "output_type": "execute_result"
    }
   ],
   "source": [
    "HotelFactory.delete_hotel(\"1\", \"Holiday Inn\", \"MX\", 30, 305.0, 5.0)"
   ]
  },
  {
   "cell_type": "code",
   "execution_count": 9,
   "metadata": {},
   "outputs": [
    {
     "name": "stdout",
     "output_type": "stream",
     "text": [
      "Found file: ../resources/hotels.json\n",
      "Error: JSON file is corrupted. Using an empty DataFrame.\n"
     ]
    },
    {
     "data": {
      "text/html": [
       "<div>\n",
       "<style scoped>\n",
       "    .dataframe tbody tr th:only-of-type {\n",
       "        vertical-align: middle;\n",
       "    }\n",
       "\n",
       "    .dataframe tbody tr th {\n",
       "        vertical-align: top;\n",
       "    }\n",
       "\n",
       "    .dataframe thead th {\n",
       "        text-align: right;\n",
       "    }\n",
       "</style>\n",
       "<table border=\"1\" class=\"dataframe\">\n",
       "  <thead>\n",
       "    <tr style=\"text-align: right;\">\n",
       "      <th></th>\n",
       "      <th>hotel_id</th>\n",
       "      <th>name</th>\n",
       "      <th>location</th>\n",
       "      <th>rooms_total</th>\n",
       "      <th>rooms_available</th>\n",
       "      <th>price_per_night</th>\n",
       "      <th>rating</th>\n",
       "    </tr>\n",
       "  </thead>\n",
       "  <tbody>\n",
       "  </tbody>\n",
       "</table>\n",
       "</div>"
      ],
      "text/plain": [
       "Empty DataFrame\n",
       "Columns: [hotel_id, name, location, rooms_total, rooms_available, price_per_night, rating]\n",
       "Index: []"
      ]
     },
     "metadata": {},
     "output_type": "display_data"
    },
    {
     "name": "stdout",
     "output_type": "stream",
     "text": [
      "Found file: ../resources/hotels.json\n",
      "Hotel Holiday Inn created successfully!\n"
     ]
    },
    {
     "name": "stderr",
     "output_type": "stream",
     "text": [
      "/var/folders/xj/856h4cfd3k52z_02341c_sxc0000gn/T/ipykernel_14694/694850704.py:24: FutureWarning: The behavior of DataFrame concatenation with empty or all-NA entries is deprecated. In a future version, this will no longer exclude empty or all-NA columns when determining the result dtypes. To retain the old behavior, exclude the relevant entries before the concat operation.\n",
      "  df = pd.concat([df, pd.DataFrame([hotel.to_dict()])], ignore_index=True)\n"
     ]
    },
    {
     "data": {
      "text/plain": [
       "<__main__.Hotel at 0x12b9fe510>"
      ]
     },
     "execution_count": 9,
     "metadata": {},
     "output_type": "execute_result"
    }
   ],
   "source": [
    "HotelFactory.create_hotel(\"1\", \"Holiday Inn\", \"MX\", 30, 305.0, 5.0)"
   ]
  },
  {
   "cell_type": "code",
   "execution_count": 10,
   "metadata": {},
   "outputs": [
    {
     "name": "stdout",
     "output_type": "stream",
     "text": [
      "Found file: ../resources/hotels.json\n"
     ]
    },
    {
     "data": {
      "text/html": [
       "<div>\n",
       "<style scoped>\n",
       "    .dataframe tbody tr th:only-of-type {\n",
       "        vertical-align: middle;\n",
       "    }\n",
       "\n",
       "    .dataframe tbody tr th {\n",
       "        vertical-align: top;\n",
       "    }\n",
       "\n",
       "    .dataframe thead th {\n",
       "        text-align: right;\n",
       "    }\n",
       "</style>\n",
       "<table border=\"1\" class=\"dataframe\">\n",
       "  <thead>\n",
       "    <tr style=\"text-align: right;\">\n",
       "      <th></th>\n",
       "      <th>hotel_id</th>\n",
       "      <th>name</th>\n",
       "      <th>location</th>\n",
       "      <th>rooms_total</th>\n",
       "      <th>rooms_available</th>\n",
       "      <th>price_per_night</th>\n",
       "      <th>rating</th>\n",
       "    </tr>\n",
       "  </thead>\n",
       "  <tbody>\n",
       "    <tr>\n",
       "      <th>0</th>\n",
       "      <td>1</td>\n",
       "      <td>Holiday Inn</td>\n",
       "      <td>MX</td>\n",
       "      <td>30</td>\n",
       "      <td>30</td>\n",
       "      <td>305</td>\n",
       "      <td>5</td>\n",
       "    </tr>\n",
       "  </tbody>\n",
       "</table>\n",
       "</div>"
      ],
      "text/plain": [
       "  hotel_id         name location  rooms_total  rooms_available  \\\n",
       "0        1  Holiday Inn       MX           30               30   \n",
       "\n",
       "   price_per_night  rating  \n",
       "0              305       5  "
      ]
     },
     "metadata": {},
     "output_type": "display_data"
    }
   ],
   "source": [
    "HotelFactory.display_hotel_info(\"1\", \"Holiday Inn\")"
   ]
  },
  {
   "cell_type": "code",
   "execution_count": 13,
   "metadata": {},
   "outputs": [
    {
     "name": "stdout",
     "output_type": "stream",
     "text": [
      "Found file: ../resources/hotels.json\n",
      "Found file: ../resources/hotels.json\n",
      "Hotel '1' updated successfully.\n"
     ]
    },
    {
     "data": {
      "text/plain": [
       "True"
      ]
     },
     "execution_count": 13,
     "metadata": {},
     "output_type": "execute_result"
    }
   ],
   "source": [
    "HotelFactory.modify_hotel_info(\"1\", name=\"New ONE\", price_per_night=350.0)"
   ]
  },
  {
   "cell_type": "code",
   "execution_count": 79,
   "metadata": {},
   "outputs": [
    {
     "name": "stdout",
     "output_type": "stream",
     "text": [
      "Found file: ../resources/hotels.json\n"
     ]
    },
    {
     "data": {
      "text/html": [
       "<div>\n",
       "<style scoped>\n",
       "    .dataframe tbody tr th:only-of-type {\n",
       "        vertical-align: middle;\n",
       "    }\n",
       "\n",
       "    .dataframe tbody tr th {\n",
       "        vertical-align: top;\n",
       "    }\n",
       "\n",
       "    .dataframe thead th {\n",
       "        text-align: right;\n",
       "    }\n",
       "</style>\n",
       "<table border=\"1\" class=\"dataframe\">\n",
       "  <thead>\n",
       "    <tr style=\"text-align: right;\">\n",
       "      <th></th>\n",
       "      <th>hotel_id</th>\n",
       "      <th>name</th>\n",
       "      <th>location</th>\n",
       "      <th>rooms_total</th>\n",
       "      <th>rooms_available</th>\n",
       "      <th>price_per_night</th>\n",
       "      <th>rating</th>\n",
       "    </tr>\n",
       "  </thead>\n",
       "  <tbody>\n",
       "    <tr>\n",
       "      <th>0</th>\n",
       "      <td>2</td>\n",
       "      <td>New ONE</td>\n",
       "      <td>MX</td>\n",
       "      <td>30</td>\n",
       "      <td>30</td>\n",
       "      <td>350</td>\n",
       "      <td>5</td>\n",
       "    </tr>\n",
       "  </tbody>\n",
       "</table>\n",
       "</div>"
      ],
      "text/plain": [
       "  hotel_id     name location  rooms_total  rooms_available  price_per_night  \\\n",
       "0        2  New ONE       MX           30               30              350   \n",
       "\n",
       "   rating  \n",
       "0       5  "
      ]
     },
     "metadata": {},
     "output_type": "display_data"
    }
   ],
   "source": [
    "HotelFactory.display_hotel_info(\"2\", \"New ONE\")"
   ]
  },
  {
   "cell_type": "code",
   "execution_count": 19,
   "metadata": {},
   "outputs": [
    {
     "name": "stdout",
     "output_type": "stream",
     "text": [
      "Found file: ../resources/customers.json\n",
      "Error: JSON file is corrupted. Using an empty DataFrame.\n"
     ]
    },
    {
     "data": {
      "text/html": [
       "<div>\n",
       "<style scoped>\n",
       "    .dataframe tbody tr th:only-of-type {\n",
       "        vertical-align: middle;\n",
       "    }\n",
       "\n",
       "    .dataframe tbody tr th {\n",
       "        vertical-align: top;\n",
       "    }\n",
       "\n",
       "    .dataframe thead th {\n",
       "        text-align: right;\n",
       "    }\n",
       "</style>\n",
       "<table border=\"1\" class=\"dataframe\">\n",
       "  <thead>\n",
       "    <tr style=\"text-align: right;\">\n",
       "      <th></th>\n",
       "      <th>customer_id</th>\n",
       "      <th>name</th>\n",
       "      <th>email</th>\n",
       "      <th>phone</th>\n",
       "    </tr>\n",
       "  </thead>\n",
       "  <tbody>\n",
       "  </tbody>\n",
       "</table>\n",
       "</div>"
      ],
      "text/plain": [
       "Empty DataFrame\n",
       "Columns: [customer_id, name, email, phone]\n",
       "Index: []"
      ]
     },
     "metadata": {},
     "output_type": "display_data"
    },
    {
     "name": "stdout",
     "output_type": "stream",
     "text": [
      "Found file: ../resources/customers.json\n",
      "Client John created successfully!\n"
     ]
    },
    {
     "data": {
      "text/plain": [
       "<__main__.Customer at 0x1461f98b0>"
      ]
     },
     "execution_count": 19,
     "metadata": {},
     "output_type": "execute_result"
    }
   ],
   "source": [
    "CustomerFactory.create_customer(\"1\", \"John\", \"a@gmail.com\", 722)"
   ]
  },
  {
   "cell_type": "code",
   "execution_count": 20,
   "metadata": {},
   "outputs": [
    {
     "name": "stdout",
     "output_type": "stream",
     "text": [
      "Found file: ../resources/customers.json\n"
     ]
    },
    {
     "data": {
      "text/html": [
       "<div>\n",
       "<style scoped>\n",
       "    .dataframe tbody tr th:only-of-type {\n",
       "        vertical-align: middle;\n",
       "    }\n",
       "\n",
       "    .dataframe tbody tr th {\n",
       "        vertical-align: top;\n",
       "    }\n",
       "\n",
       "    .dataframe thead th {\n",
       "        text-align: right;\n",
       "    }\n",
       "</style>\n",
       "<table border=\"1\" class=\"dataframe\">\n",
       "  <thead>\n",
       "    <tr style=\"text-align: right;\">\n",
       "      <th></th>\n",
       "      <th>customer_id</th>\n",
       "      <th>name</th>\n",
       "      <th>email</th>\n",
       "      <th>phone</th>\n",
       "    </tr>\n",
       "  </thead>\n",
       "  <tbody>\n",
       "    <tr>\n",
       "      <th>0</th>\n",
       "      <td>1</td>\n",
       "      <td>John</td>\n",
       "      <td>a@gmail.com</td>\n",
       "      <td>722</td>\n",
       "    </tr>\n",
       "  </tbody>\n",
       "</table>\n",
       "</div>"
      ],
      "text/plain": [
       "  customer_id  name        email  phone\n",
       "0           1  John  a@gmail.com    722"
      ]
     },
     "metadata": {},
     "output_type": "display_data"
    }
   ],
   "source": [
    "CustomerFactory.display_customer_info(\"1\", \"John\")"
   ]
  },
  {
   "cell_type": "code",
   "execution_count": 26,
   "metadata": {},
   "outputs": [
    {
     "name": "stdout",
     "output_type": "stream",
     "text": [
      "Found file: ../resources/customers.json\n",
      "Error: No customer found with ID '2'.\n"
     ]
    },
    {
     "data": {
      "text/plain": [
       "False"
      ]
     },
     "execution_count": 26,
     "metadata": {},
     "output_type": "execute_result"
    }
   ],
   "source": [
    "CustomerFactory.modify_customer_info(\"2\", name = \"Juan\")"
   ]
  },
  {
   "cell_type": "code",
   "execution_count": 27,
   "metadata": {},
   "outputs": [
    {
     "name": "stdout",
     "output_type": "stream",
     "text": [
      "Found file: ../resources/customers.json\n",
      "Found file: ../resources/customers.json\n",
      "customer 'Juan' deleted successfully.\n"
     ]
    },
    {
     "data": {
      "text/plain": [
       "True"
      ]
     },
     "execution_count": 27,
     "metadata": {},
     "output_type": "execute_result"
    }
   ],
   "source": [
    "CustomerFactory.delete_customer(\"1\", \"Juan\", \"a@gmail.com\", 722)"
   ]
  }
 ],
 "metadata": {
  "kernelspec": {
   "display_name": "Python 3",
   "language": "python",
   "name": "python3"
  },
  "language_info": {
   "codemirror_mode": {
    "name": "ipython",
    "version": 3
   },
   "file_extension": ".py",
   "mimetype": "text/x-python",
   "name": "python",
   "nbconvert_exporter": "python",
   "pygments_lexer": "ipython3",
   "version": "3.12.0"
  }
 },
 "nbformat": 4,
 "nbformat_minor": 2
}

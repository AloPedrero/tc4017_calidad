{
 "cells": [
  {
   "cell_type": "markdown",
   "metadata": {},
   "source": [
    "# 4.2 Ejercicio de programación 1\n",
    "---\n",
    "- `Alonso Pedrero Martínez`\n",
    "- `A01769076`"
   ]
  },
  {
   "cell_type": "code",
   "execution_count": 45,
   "metadata": {},
   "outputs": [],
   "source": [
    "import time"
   ]
  },
  {
   "cell_type": "code",
   "execution_count": 46,
   "metadata": {},
   "outputs": [],
   "source": [
    "start_time = time.time()"
   ]
  },
  {
   "cell_type": "code",
   "execution_count": 47,
   "metadata": {},
   "outputs": [
    {
     "name": "stdout",
     "output_type": "stream",
     "text": [
      "Enter the file name you want to analize: \n"
     ]
    }
   ],
   "source": [
    "print(\"Enter the file name you want to analize: \")\n",
    "file_input  = str(input())"
   ]
  },
  {
   "cell_type": "code",
   "execution_count": 48,
   "metadata": {},
   "outputs": [],
   "source": [
    "with open(f\"../files/P1/{file_input}.txt\", \"r\") as file:\n",
    "    number_list = []\n",
    "    for line in file:\n",
    "        try:\n",
    "            number = float(line.strip())\n",
    "            number_list.append(number)\n",
    "        except ValueError as e:\n",
    "            print(f\"Non recognized number '{line.strip()}': {e}\")\n"
   ]
  },
  {
   "cell_type": "code",
   "execution_count": 49,
   "metadata": {},
   "outputs": [],
   "source": [
    "def mean_calculation(number_list):\n",
    "    \"\"\"\n",
    "    This Function calculates the mean value of an input list\n",
    "    \"\"\"\n",
    "    return sum(number_list) / len(number_list)\n"
   ]
  },
  {
   "cell_type": "code",
   "execution_count": 50,
   "metadata": {},
   "outputs": [],
   "source": [
    "def median_calculation(number_list):\n",
    "    \"\"\"\n",
    "    This function calculates the median value of an input list.\n",
    "    \"\"\"\n",
    "    sorted_list = sorted(number_list)\n",
    "    list_lenght = len(sorted_list)\n",
    "    mid_value = list_lenght // 2\n",
    "\n",
    "    if list_lenght % 2 == 1: \n",
    "        return sorted_list[mid_value]\n",
    "    else:  \n",
    "        return (sorted_list[mid_value - 1] + sorted_list[mid_value]) / 2"
   ]
  },
  {
   "cell_type": "code",
   "execution_count": 51,
   "metadata": {},
   "outputs": [],
   "source": [
    "def mode_calculation(number_list):\n",
    "    \"\"\"\n",
    "    This function calculates the mode value of an input list.\n",
    "    \"\"\"\n",
    "    freq = {}\n",
    "    for num in number_list:\n",
    "        freq[num] = freq.get(num, 0) + 1\n",
    "    \n",
    "    max_freq = max(freq.values())  \n",
    "    modes = [key for key, value in freq.items() if value == max_freq]\n",
    "\n",
    "    return modes"
   ]
  },
  {
   "cell_type": "code",
   "execution_count": 52,
   "metadata": {},
   "outputs": [],
   "source": [
    "def variance_calculation(number_list):\n",
    "    \"\"\"\n",
    "    This function calculates the variance value of an input list.\n",
    "    \"\"\"\n",
    "    mean_value = mean_calculation(number_list)\n",
    "    squared_diffs = [(x - mean_value) ** 2 for x in number_list]\n",
    "    \n",
    "    return sum(squared_diffs) / len(number_list)  \n"
   ]
  },
  {
   "cell_type": "code",
   "execution_count": 53,
   "metadata": {},
   "outputs": [],
   "source": [
    "def standard_deviation_calcualtion(number_list):\n",
    "    \"\"\"\n",
    "    This function calculates the standard deviation of an input list.\n",
    "    \"\"\"\n",
    "    return variance_calculation(number_list) ** 0.5\n"
   ]
  },
  {
   "cell_type": "code",
   "execution_count": 54,
   "metadata": {},
   "outputs": [],
   "source": [
    "avg = mean_calculation(number_list)\n",
    "median = median_calculation(number_list)\n",
    "mode = mode_calculation(number_list)\n",
    "variance = variance_calculation(number_list)\n",
    "sdv = standard_deviation_calcualtion(number_list)"
   ]
  },
  {
   "cell_type": "code",
   "execution_count": 55,
   "metadata": {},
   "outputs": [],
   "source": [
    "end_time = time.time()\n",
    "elapsed_time = end_time - start_time"
   ]
  },
  {
   "cell_type": "code",
   "execution_count": 56,
   "metadata": {},
   "outputs": [],
   "source": [
    "statistical_outputs = {\n",
    "    \"Mean\" : avg,\n",
    "    \"Median\" : median,\n",
    "    \"Mode\" : mode,\n",
    "    \"Variance\" : variance,\n",
    "    \"SD\" : sdv,\n",
    "    \"Time\" : elapsed_time\n",
    "}"
   ]
  },
  {
   "cell_type": "code",
   "execution_count": 57,
   "metadata": {},
   "outputs": [
    {
     "data": {
      "text/plain": [
       "{'Mean': 149.00267347908746,\n",
       " 'Median': 147.75,\n",
       " 'Mode': [123.75],\n",
       " 'Variance': 17007.92084301886,\n",
       " 'SD': 130.41441961308902,\n",
       " 'Time': 2.5749351978302}"
      ]
     },
     "execution_count": 57,
     "metadata": {},
     "output_type": "execute_result"
    }
   ],
   "source": [
    "statistical_outputs"
   ]
  },
  {
   "cell_type": "code",
   "execution_count": 58,
   "metadata": {},
   "outputs": [
    {
     "name": "stdout",
     "output_type": "stream",
     "text": [
      "Data successfully saved to ../outputs/P1/output.txt\n",
      "Time elapsed for execution and data calculation: 2.5749 seconds\n"
     ]
    }
   ],
   "source": [
    "file_path = \"../outputs/P1/output.txt\"  \n",
    "\n",
    "with open(file_path, \"a\") as file:\n",
    "    file.write(\"\\n\\n\" + file_input + \"\\n\\n\")\n",
    "    \n",
    "    # Write the dictionary in a readable format\n",
    "    for key, value in statistical_outputs.items():\n",
    "        file.write(f\"{key}: {value}\\n\")\n",
    "\n",
    "print(f\"Data successfully saved to {file_path}\")\n",
    "print(f\"Time elapsed for execution and data calculation: {elapsed_time:.4f} seconds\")"
   ]
  }
 ],
 "metadata": {
  "kernelspec": {
   "display_name": "Python 3",
   "language": "python",
   "name": "python3"
  },
  "language_info": {
   "codemirror_mode": {
    "name": "ipython",
    "version": 3
   },
   "file_extension": ".py",
   "mimetype": "text/x-python",
   "name": "python",
   "nbconvert_exporter": "python",
   "pygments_lexer": "ipython3",
   "version": "3.12.0"
  }
 },
 "nbformat": 4,
 "nbformat_minor": 2
}
